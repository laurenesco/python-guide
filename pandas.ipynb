{
 "cells": [
  {
   "cell_type": "markdown",
   "id": "9220a673-61f5-4280-802c-5742292e4b41",
   "metadata": {},
   "source": [
    "basic functions:\n",
    "\n",
    "- **pd.DataFrame(data)**: Creates a DataFrame from various data structures.\n",
    "- **pd.Series(data)**: Creates a Series from a sequence or array-like data.\n",
    "- **df.head(n)**: Returns the first n rows of the DataFrame.\n",
    "- **df.tail(n)**: Returns the last n rows of the DataFrame.\n",
    "- **df.info()**: Provides a summary of the DataFrame including index dtype and columns.\n",
    "- **df.describe()**: Generates descriptive statistics for numerical columns.\n",
    "- **df.shape**: Returns a tuple representing the dimensions of the DataFrame.\n",
    "- **df.columns**: Returns the column labels of the DataFrame.\n",
    "- **df.index**: Returns the row labels of the DataFrame.\n",
    "- **df.drop(labels, axis)**: Removes rows or columns by label.\n",
    "- **df.rename(columns)**: Renames columns in the DataFrame.\n",
    "- **df.fillna(value)**: Replaces NaN values with a specified value.\n",
    "- **df.dropna()**: Removes rows with NaN values.\n",
    "- **df.groupby(by)**: Groups the DataFrame using a mapper or by a Series of columns.\n",
    "- **df.merge(right, how)**: Merges two DataFrames based on a common column or index.\n",
    "- **df.concat([df1, df2], axis)**: Concatenates two or more DataFrames along a particular axis.\n",
    "- **df.apply(func)**: Applies a function along an axis of the DataFrame.\n",
    "- **df.pivot_table(values, index, columns)**: Creates a pivot table.\n",
    "- **df.plot(kind)**: Generates a plot of the DataFrame.\n",
    "- **df.corr()**: Computes pairwise correlation of columns.\n",
    "\n",
    "Documentation: https://pandas.pydata.org/"
   ]
  },
  {
   "cell_type": "code",
   "execution_count": 1,
   "id": "29469feb-6ba1-41b2-b1fc-81ec3926b0eb",
   "metadata": {},
   "outputs": [
    {
     "name": "stdout",
     "output_type": "stream",
     "text": [
      "<class 'pandas.core.frame.DataFrame'>\n",
      "RangeIndex: 3 entries, 0 to 2\n",
      "Data columns (total 2 columns):\n",
      " #   Column  Non-Null Count  Dtype\n",
      "---  ------  --------------  -----\n",
      " 0   A       3 non-null      int64\n",
      " 1   B       3 non-null      int64\n",
      "dtypes: int64(2)\n",
      "memory usage: 176.0 bytes\n"
     ]
    },
    {
     "data": {
      "text/html": [
       "<div>\n",
       "<style scoped>\n",
       "    .dataframe tbody tr th:only-of-type {\n",
       "        vertical-align: middle;\n",
       "    }\n",
       "\n",
       "    .dataframe tbody tr th {\n",
       "        vertical-align: top;\n",
       "    }\n",
       "\n",
       "    .dataframe thead th {\n",
       "        text-align: right;\n",
       "    }\n",
       "</style>\n",
       "<table border=\"1\" class=\"dataframe\">\n",
       "  <thead>\n",
       "    <tr style=\"text-align: right;\">\n",
       "      <th></th>\n",
       "      <th>A</th>\n",
       "      <th>B</th>\n",
       "    </tr>\n",
       "  </thead>\n",
       "  <tbody>\n",
       "    <tr>\n",
       "      <th>A</th>\n",
       "      <td>1.0</td>\n",
       "      <td>1.0</td>\n",
       "    </tr>\n",
       "    <tr>\n",
       "      <th>B</th>\n",
       "      <td>1.0</td>\n",
       "      <td>1.0</td>\n",
       "    </tr>\n",
       "  </tbody>\n",
       "</table>\n",
       "</div>"
      ],
      "text/plain": [
       "     A    B\n",
       "A  1.0  1.0\n",
       "B  1.0  1.0"
      ]
     },
     "execution_count": 1,
     "metadata": {},
     "output_type": "execute_result"
    },
    {
     "data": {
      "image/png": "[encoded data removed]",
      "text/plain": [
       "<Figure size 640x480 with 1 Axes>"
      ]
     },
     "metadata": {},
     "output_type": "display_data"
    }
   ],
   "source": [
    "import pandas as pd\n",
    "import numpy as np\n",
    "\n",
    "# Create DataFrame\n",
    "df = pd.DataFrame({'A': [1, 2, 3], 'B': [4, 5, 6]})\n",
    "\n",
    "# Create Series\n",
    "s = pd.Series([1, 2, 3])\n",
    "\n",
    "# View first 2 rows\n",
    "df.head(2)\n",
    "\n",
    "# View last 2 rows\n",
    "df.tail(2)\n",
    "\n",
    "# Summary of DataFrame\n",
    "df.info()\n",
    "\n",
    "# Descriptive statistics\n",
    "df.describe()\n",
    "\n",
    "# Shape of DataFrame\n",
    "df.shape\n",
    "\n",
    "# Column labels\n",
    "df.columns\n",
    "\n",
    "# Row labels\n",
    "df.index\n",
    "\n",
    "# Drop column 'A'\n",
    "df.drop('A', axis=1)\n",
    "\n",
    "# Rename column 'A' to 'X'\n",
    "df.rename(columns={'A': 'X'})\n",
    "\n",
    "# Fill NaN values with 0\n",
    "df.fillna(0)\n",
    "\n",
    "# Drop rows with NaN values\n",
    "df.dropna()\n",
    "\n",
    "# Group by column 'A'\n",
    "df.groupby('A').sum()\n",
    "\n",
    "# Merge two DataFrames\n",
    "df2 = pd.DataFrame({'A': [1, 2], 'C': [7, 8]})\n",
    "merged_df = df.merge(df2, on='A')\n",
    "\n",
    "# Concatenate DataFrames\n",
    "concat_df = pd.concat([df, df2], axis=0)\n",
    "\n",
    "# Apply a function to each element\n",
    "df.apply(lambda x: x * 2)\n",
    "\n",
    "# Pivot table\n",
    "pivot_df = df.pivot_table(values='B', index='A')\n",
    "\n",
    "# Plot DataFrame\n",
    "df.plot(kind='bar')\n",
    "\n",
    "# Compute correlation\n",
    "df.corr()"
   ]
  }
 ],
 "metadata": {
  "kernelspec": {
   "display_name": "Python 3 (ipykernel)",
   "language": "python",
   "name": "python3"
  },
  "language_info": {
   "codemirror_mode": {
    "name": "ipython",
    "version": 3
   },
   "file_extension": ".py",
   "mimetype": "text/x-python",
   "name": "python",
   "nbconvert_exporter": "python",
   "pygments_lexer": "ipython3",
   "version": "3.10.13"
  }
 },
 "nbformat": 4,
 "nbformat_minor": 5
}
